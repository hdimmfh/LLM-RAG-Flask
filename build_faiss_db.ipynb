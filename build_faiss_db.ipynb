{
 "cells": [
  {
   "cell_type": "code",
   "execution_count": null,
   "outputs": [],
   "source": [
    "! pip uinstall -y langchain | pip install langchain==0.0.190 langchain==0.0.281 langchain-community==0.0.31 langchain-core==0.1.40 langchain-openai==0.1.1 langchain-text-splitters==0.0.1"
   ],
   "metadata": {
    "collapsed": false
   },
   "id": "efb9a51a26522306"
  },
  {
   "cell_type": "code",
   "execution_count": 2,
   "outputs": [],
   "source": [
    "import getpass\n",
    "import os\n",
    "\n",
    "os.environ[\"OPENAI_API_KEY\"] = getpass.getpass()"
   ],
   "metadata": {
    "collapsed": false,
    "ExecuteTime": {
     "end_time": "2024-04-05T03:35:21.438316Z",
     "start_time": "2024-04-05T03:35:20.259364Z"
    }
   },
   "id": "de41ec812a36336a"
  },
  {
   "cell_type": "code",
   "execution_count": 9,
   "id": "initial_id",
   "metadata": {
    "collapsed": true,
    "ExecuteTime": {
     "end_time": "2024-04-05T03:39:39.148006Z",
     "start_time": "2024-04-05T03:39:38.906773Z"
    }
   },
   "outputs": [
    {
     "name": "stderr",
     "output_type": "stream",
     "text": [
      "Created a chunk of size 107, which is longer than the specified 30\n",
      "Created a chunk of size 107, which is longer than the specified 30\n",
      "Created a chunk of size 107, which is longer than the specified 30\n",
      "Created a chunk of size 107, which is longer than the specified 30\n"
     ]
    },
    {
     "name": "stdout",
     "output_type": "stream",
     "text": [
      "5\n"
     ]
    }
   ],
   "source": [
    "from langchain_community.document_loaders import TextLoader\n",
    "from langchain_community.vectorstores import FAISS\n",
    "from langchain_openai import OpenAIEmbeddings\n",
    "from langchain_text_splitters import CharacterTextSplitter\n",
    "\n",
    "loader = TextLoader(\"./sample.txt\")\n",
    "documents = loader.load()\n",
    "text_splitter = CharacterTextSplitter(chunk_size=30, chunk_overlap=0)\n",
    "docs = text_splitter.split_documents(documents)\n",
    "embeddings = OpenAIEmbeddings()\n",
    "db = FAISS.from_documents(docs, embeddings)\n",
    "print(db.index.ntotal)"
   ]
  },
  {
   "cell_type": "code",
   "execution_count": 14,
   "outputs": [
    {
     "name": "stdout",
     "output_type": "stream",
     "text": [
      "5. FAISS DB 제작을 위한 sample text file 입니다.\n",
      "chunk 단위로 끊어지기 때문에 실제 사용 시에는\n",
      "충분히 긴 text file 또는 csv file을 사용해야합니다.\n"
     ]
    }
   ],
   "source": [
    "query = \"검색 쿼리, 이 쿼리와 유사도가 높은 결과값이 반환된다. (5번 문단이 나오도록 유도)\"\n",
    "docs = db.similarity_search(query)\n",
    "print(docs[0].page_content)"
   ],
   "metadata": {
    "collapsed": false,
    "ExecuteTime": {
     "end_time": "2024-04-05T03:40:35.863451Z",
     "start_time": "2024-04-05T03:40:35.694238Z"
    }
   },
   "id": "b94a1e714ef1df65"
  },
  {
   "cell_type": "code",
   "execution_count": 16,
   "outputs": [],
   "source": [
    "# 같은 경로에 faiss_index 폴더 생성\n",
    "db.save_local(\"faiss_index\")"
   ],
   "metadata": {
    "collapsed": false,
    "ExecuteTime": {
     "end_time": "2024-04-05T03:40:55.633777Z",
     "start_time": "2024-04-05T03:40:55.622341Z"
    }
   },
   "id": "16f8b75ca489d181"
  }
 ],
 "metadata": {
  "kernelspec": {
   "display_name": "Python 3",
   "language": "python",
   "name": "python3"
  },
  "language_info": {
   "codemirror_mode": {
    "name": "ipython",
    "version": 2
   },
   "file_extension": ".py",
   "mimetype": "text/x-python",
   "name": "python",
   "nbconvert_exporter": "python",
   "pygments_lexer": "ipython2",
   "version": "2.7.6"
  }
 },
 "nbformat": 4,
 "nbformat_minor": 5
}
